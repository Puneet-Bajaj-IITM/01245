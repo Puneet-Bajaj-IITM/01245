{
  "nbformat": 4,
  "nbformat_minor": 0,
  "metadata": {
    "colab": {
      "provenance": [],
      "gpuType": "T4",
      "authorship_tag": "ABX9TyMPTnlTDYWKgFQCKZT0GBuk",
      "include_colab_link": true
    },
    "kernelspec": {
      "name": "python3",
      "display_name": "Python 3"
    },
    "language_info": {
      "name": "python"
    },
    "accelerator": "GPU"
  },
  "cells": [
    {
      "cell_type": "markdown",
      "metadata": {
        "id": "view-in-github",
        "colab_type": "text"
      },
      "source": [
        "<a href=\"https://colab.research.google.com/github/Puneet-Bajaj-IITM/01245/blob/main/Chat_Summarizer.ipynb\" target=\"_parent\"><img src=\"https://colab.research.google.com/assets/colab-badge.svg\" alt=\"Open In Colab\"/></a>"
      ]
    },
    {
      "cell_type": "code",
      "source": [
        "!curl https://ollama.ai/install.sh | sh\n",
        "!nohup ollama serve &\n",
        "!pip install ollama\n",
        "!ollama pull llama2\n",
        "!pip install flask-ngrok\n",
        "!pip install pyngrok\n",
        "\n",
        "import pandas as pd\n",
        "import concurrent.futures"
      ],
      "metadata": {
        "id": "Utu9AjE0lZa6"
      },
      "execution_count": null,
      "outputs": []
    },
    {
      "cell_type": "code",
      "source": [
        "import os\n",
        "\n",
        "templates_folder = '/content/templates'\n",
        "if not os.path.exists(templates_folder):\n",
        "    os.makedirs(templates_folder)\n",
        "\n",
        "index_content = \"\"\"\n",
        "<!DOCTYPE html>\n",
        "<html lang=\"en\">\n",
        "<head>\n",
        "    <meta charset=\"UTF-8\">\n",
        "    <meta name=\"viewport\" content=\"width=device-width, initial-scale=1.0\">\n",
        "    <title>File Upload and Processing</title>\n",
        "    <!-- Bootstrap CSS -->\n",
        "    <link href=\"https://cdn.jsdelivr.net/npm/bootstrap@5.3.0-alpha1/dist/css/bootstrap.min.css\" rel=\"stylesheet\">\n",
        "    <!-- Tailwind CSS -->\n",
        "    <link href=\"https://cdn.jsdelivr.net/npm/tailwindcss@3.0.7/dist/tailwind.min.css\" rel=\"stylesheet\">\n",
        "    <!-- Custom CSS -->\n",
        "    <style>\n",
        "        @keyframes roll {\n",
        "            0% { transform: rotate(0deg); }\n",
        "            100% { transform: rotate(360deg); }\n",
        "        }\n",
        "        .rolling-animation {\n",
        "            animation: roll 1s linear infinite;\n",
        "        }\n",
        "    </style>\n",
        "</head>\n",
        "<body class=\"bg-gray-100 p-4\">\n",
        "    <div class=\"container mx-auto\">\n",
        "        <h1 class=\"text-3xl font-bold mb-4\">Upload Excel Files</h1>\n",
        "        <form action=\"/upload\" method=\"post\" enctype=\"multipart/form-data\" class=\"mb-4\">\n",
        "            <div class=\"mb-3\">\n",
        "                <label for=\"files\" class=\"form-label\">Choose Excel Files:</label>\n",
        "                <input type=\"file\" class=\"form-control\" id=\"files\" name=\"files[]\" multiple accept=\".xlsx\" onchange=\"displaySelectedFiles(this)\">\n",
        "            </div>\n",
        "            <button type=\"submit\" class=\"btn btn-primary\">Upload</button>\n",
        "        </form>\n",
        "        <h2 class=\"text-2xl font-bold mb-2\">Selected Files:</h2>\n",
        "        <ul id=\"selectedFilesList\" class=\"list-disc pl-5\">\n",
        "            {% for file in selected_files %}\n",
        "            <li>{{ file }}</li>\n",
        "            {% endfor %}\n",
        "        </ul>\n",
        "        {% if output_files %}\n",
        "        <h2 class=\"text-2xl font-bold mb-2\">Processed Files:</h2>\n",
        "        <ul class=\"list-disc pl-5\">\n",
        "            {% for file in output_files %}\n",
        "                <li><a href=\"/download/{{ file }}\" class=\"text-blue-500\">{{ file }}</a></li>\n",
        "            {% endfor %}\n",
        "        </ul>\n",
        "        {% endif %}\n",
        "    </div>\n",
        "    <script>\n",
        "        function displaySelectedFiles(input) {\n",
        "            const fileList = document.getElementById('selectedFilesList');\n",
        "            fileList.innerHTML = ''; // Clear previous list\n",
        "\n",
        "            const files = input.files;\n",
        "            for (let i = 0; i < files.length; i++) {\n",
        "                const listItem = document.createElement('li');\n",
        "                listItem.textContent = files[i].name;\n",
        "                fileList.appendChild(listItem);\n",
        "            }\n",
        "        }\n",
        "    </script>\n",
        "</body>\n",
        "</html>\n",
        "\n",
        "\"\"\"\n",
        "\n",
        "with open(os.path.join(templates_folder, 'index.html'), 'w') as f:\n",
        "    f.write(index_content)\n",
        "\n",
        "print(\"Templates folder and index.html created successfully.\")"
      ],
      "metadata": {
        "colab": {
          "base_uri": "https://localhost:8080/"
        },
        "id": "l0FeawlrCB1K",
        "outputId": "44d196c3-fbc4-4256-82ae-bb25bd02f095"
      },
      "execution_count": 13,
      "outputs": [
        {
          "output_type": "stream",
          "name": "stdout",
          "text": [
            "Templates folder and index.html created successfully.\n"
          ]
        }
      ]
    },
    {
      "cell_type": "code",
      "source": [
        "\n",
        "def generate_summary(row):\n",
        "    if row['Chat']:\n",
        "        res = ollama.generate(model='llama2', prompt=f\"\"\"Summarize {row['Chat']}, mention the main issues encountered by the customer, the solutions provided by agent and overarching themes discussed\"\"\")\n",
        "    return res['response'] or None\n",
        "\n",
        "def process_row(row):\n",
        "    summary = generate_summary(row)\n",
        "    return summary\n",
        "\n",
        "def process_file(filename):\n",
        "    data = pd.read_excel(filename, header=None)\n",
        "    data['Summary'] = None\n",
        "    data.columns = ['Chat', 'Summary']\n",
        "\n",
        "    with concurrent.futures.ThreadPoolExecutor() as executor:\n",
        "        futures = [executor.submit(process_row, row) for _, row in data.iterrows()]\n",
        "        for future, (index, _) in zip(futures, data.iterrows()):\n",
        "            summary = future.result()\n",
        "            data.at[index, 'Summary'] = summary\n",
        "    return data\n"
      ],
      "metadata": {
        "id": "m1dDSBPOlZFl"
      },
      "execution_count": 14,
      "outputs": []
    },
    {
      "cell_type": "code",
      "source": [
        "from flask import Flask, request, render_template, send_file\n",
        "from pyngrok import ngrok\n",
        "import ollama\n",
        "import os\n",
        "import pandas as pd\n",
        "ngrok.set_auth_token(\"2aGUSiqfIzgKx0yh6XHaTX3G11f_5HRDp7atGGPtyxaiH91bc\")\n",
        "\n",
        "app = Flask(__name__)\n",
        "\n",
        "UPLOAD_FOLDER = '/content/uploads'\n",
        "OUTPUT_FOLDER = '/content/outputs'\n",
        "ALLOWED_EXTENSIONS = {'xlsx'}\n",
        "\n",
        "if not os.path.exists(UPLOAD_FOLDER):\n",
        "    os.makedirs(UPLOAD_FOLDER)\n",
        "\n",
        "if not os.path.exists(OUTPUT_FOLDER):\n",
        "    os.makedirs(OUTPUT_FOLDER)\n",
        "\n",
        "app.config['UPLOAD_FOLDER'] = UPLOAD_FOLDER\n",
        "app.config['OUTPUT_FOLDER'] = OUTPUT_FOLDER\n",
        "\n",
        "def allowed_file(filename):\n",
        "    return '.' in filename and filename.rsplit('.', 1)[1].lower() in ALLOWED_EXTENSIONS\n",
        "\n",
        "@app.route('/')\n",
        "def index():\n",
        "    output_files = os.listdir(app.config['OUTPUT_FOLDER'])\n",
        "    return render_template('index.html', output_files=output_files)\n",
        "\n",
        "@app.route('/upload', methods=['POST'])\n",
        "def upload_file():\n",
        "    if 'files[]' not in request.files:\n",
        "        return 'No file part'\n",
        "\n",
        "    files = request.files.getlist('files[]')\n",
        "    for file in files:\n",
        "        if file and allowed_file(file.filename):\n",
        "            filename = file.filename\n",
        "            file.save(os.path.join(app.config['UPLOAD_FOLDER'], filename))\n",
        "            processed_df = process_file(os.path.join(app.config['UPLOAD_FOLDER'], filename))\n",
        "            output_filename = filename.replace('.xlsx', '_processed.xlsx')\n",
        "            output_path = os.path.join(app.config['OUTPUT_FOLDER'], output_filename)\n",
        "            processed_df.to_excel(output_path, index=False)\n",
        "\n",
        "    output_files = os.listdir(app.config['OUTPUT_FOLDER'])\n",
        "    return render_template('index.html', output_files=output_files)\n",
        "\n",
        "@app.route('/download/<filename>')\n",
        "def download_file(filename):\n",
        "    return send_file(os.path.join(app.config['OUTPUT_FOLDER'], filename), as_attachment=True)\n",
        "\n",
        "\n",
        "if __name__ == '__main__':\n",
        "    from pyngrok import ngrok\n",
        "\n",
        "    public_url = ngrok.connect()\n",
        "    print(' * Tunnel URL:', public_url)\n",
        "\n",
        "    app.run(port=80)\n",
        "\n"
      ],
      "metadata": {
        "collapsed": true,
        "id": "3SkIXC0akecQ"
      },
      "execution_count": 15,
      "outputs": []
    }
  ]
}